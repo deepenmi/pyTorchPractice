{
  "nbformat": 4,
  "nbformat_minor": 0,
  "metadata": {
    "colab": {
      "name": "LinearNeuralNetwork.ipynb",
      "provenance": [],
      "collapsed_sections": [],
      "toc_visible": true,
      "authorship_tag": "ABX9TyMPxEhvRSco6KuMbxFautP3",
      "include_colab_link": true
    },
    "kernelspec": {
      "name": "python3",
      "display_name": "Python 3"
    },
    "language_info": {
      "name": "python"
    }
  },
  "cells": [
    {
      "cell_type": "markdown",
      "metadata": {
        "id": "view-in-github",
        "colab_type": "text"
      },
      "source": [
        "<a href=\"https://colab.research.google.com/github/deepenmi/pyTorchPractice/blob/master/LinearNeuralNetwork.ipynb\" target=\"_parent\"><img src=\"https://colab.research.google.com/assets/colab-badge.svg\" alt=\"Open In Colab\"/></a>"
      ]
    },
    {
      "cell_type": "code",
      "metadata": {
        "id": "287TD1BKZBM6"
      },
      "source": [
        "import torch\n",
        "import torch.nn as nn\n",
        "import torch.nn.functional as F\n",
        "import torch.optim as optim\n",
        "from torchvision import datasets, transforms"
      ],
      "execution_count": 2,
      "outputs": []
    },
    {
      "cell_type": "markdown",
      "metadata": {
        "id": "NHrKH_y3ZSz3"
      },
      "source": [
        "# Define a model\n",
        "We have three layers (500,1000,10). The last one is important, since we have 10 classes we need 10 output neurons."
      ]
    },
    {
      "cell_type": "code",
      "metadata": {
        "id": "zZ39OhRzZNU0"
      },
      "source": [
        "class Net(nn.Module):\n",
        "  def __init__(self):\n",
        "    super(Net, self).__init__()\n",
        "    self.fc1 =nn.Linear(784, 500) ## 784 is 28 * 28 and we have 500 nodes in input layer\n",
        "    self.fc2 = nn.Linear(500,1000)\n",
        "    self.fc3 = nn.Linear(1000,10)\n",
        "\n",
        "  def forward(self,x):\n",
        "    x = x.view(-1,784)\n",
        "    x = F.relu(self.fc1(x))\n",
        "    x = F.relu(self.fc2(x))\n",
        "    x = self.fc3(x)\n",
        "    return F.log_softmax(x, dim=1)"
      ],
      "execution_count": 16,
      "outputs": []
    },
    {
      "cell_type": "markdown",
      "metadata": {
        "id": "UVoito1hb0Ie"
      },
      "source": [
        "# Data Loading\n",
        "We use DataLoader andDataset torch util classes"
      ]
    },
    {
      "cell_type": "code",
      "metadata": {
        "id": "vj-1FEeoa4oT"
      },
      "source": [
        "train_loader = torch.utils.data.DataLoader(\n",
        "    datasets.MNIST('../data', train=True, download=True,\n",
        "                   transform=transforms.Compose([\n",
        "                                                 transforms.ToTensor(),\n",
        "                                                 transforms.Normalize((0.1307,),(0.3081,))\n",
        "                   ])),\n",
        "                   batch_size=128, shuffle=True\n",
        ")"
      ],
      "execution_count": 9,
      "outputs": []
    },
    {
      "cell_type": "code",
      "metadata": {
        "id": "9sOXdQlQcmHO"
      },
      "source": [
        "test_loader = torch.utils.data.DataLoader(\n",
        "    datasets.MNIST('../data',train=False, transform=transforms.Compose([\n",
        "                                                                        transforms.ToTensor(),\n",
        "                                                                        transforms.Normalize((0.1307,),(0.3081,))\n",
        "    ])),\n",
        "    batch_size=1000, shuffle=True\n",
        ")"
      ],
      "execution_count": 11,
      "outputs": []
    },
    {
      "cell_type": "markdown",
      "metadata": {
        "id": "9O0oT1gqeava"
      },
      "source": [
        "# Training and Testig Loops\n",
        "Boilerplate coe for training and testing (almost never changes)."
      ]
    },
    {
      "cell_type": "code",
      "metadata": {
        "id": "MCfredjIegFG"
      },
      "source": [
        "def train(model, device, train_loader, optimizer, epoch):\n",
        "  model.train()\n",
        "  for batch_idx, (data, target) in enumerate(train_loader):\n",
        "    data, target = data.to(device), target.to(device)\n",
        "    optimizer.zero_grad()\n",
        "    output = model(data)\n",
        "    loss = F.nll_loss(output, target)\n",
        "    loss.backward()\n",
        "    optimizer.step()\n",
        "    if batch_idx % 100 ==0:\n",
        "      print('Train Epoch:{} [{}/{} ({:.0f}%]\\tLoss:{:.6f}'.format(\n",
        "          epoch, batch_idx*len(data), len(train_loader.dataset),\n",
        "          100. * batch_idx / len(train_loader), loss.item()\n",
        "      ))\n",
        "\n",
        "def test(model, device, test_loader):\n",
        "  model.eval()\n",
        "  test_loss = 0\n",
        "  correct = 0\n",
        "  with torch.no_grad():\n",
        "    for data, target in test_loader:\n",
        "      data, target = data.to(device), target.to(device)\n",
        "      output = model(data)\n",
        "      test_loss += F.nll_loss(output,target, reduction='sum').item()\n",
        "      pred = output.argmax(dim=1, keepdim=True)\n",
        "      correct+=pred.eq(target.view_as(pred)).sum().item()\n",
        "\n",
        "    test_loss /= len(test_loader.dataset)\n",
        "\n",
        "    print('\\nTest set: Average Loss: {:.4f}, Accuracy: {}/{} ({:.0f}%)\\n'.format(\n",
        "        test_loss, correct, len(test_loader.dataset),\n",
        "        100.*correct/len(test_loader.dataset)\n",
        "    ))"
      ],
      "execution_count": 20,
      "outputs": []
    },
    {
      "cell_type": "code",
      "metadata": {
        "colab": {
          "base_uri": "https://localhost:8080/"
        },
        "id": "nMcNpLBkiWkU",
        "outputId": "d8227cbd-bad6-4aa8-ebdb-aa2c0c16c7a3"
      },
      "source": [
        "use_cuda = torch.cuda.is_available()\n",
        "torch.manual_seed(42)\n",
        "device = torch.device(\"cuda\" if use_cuda else \"cpu\")\n",
        "model = Net().to(device)\n",
        "optimizer = optim.SGD(model.parameters(), lr=0.05, momentum=0.5)\n",
        "\n",
        "# Test before training\n",
        "\n",
        "test(model, device, test_loader)\n",
        "\n",
        "for epoch in range(1,3+1):\n",
        "  train(model, device, train_loader, optimizer, epoch)\n",
        "  test(model, device, test_loader)\n",
        "\n",
        "torch.save(model.state_dict(),\"mnist.pt\")\n",
        "\n"
      ],
      "execution_count": 21,
      "outputs": [
        {
          "output_type": "stream",
          "text": [
            "\n",
            "Test set: Average Loss: 2.2889, Accuracy: 1131/10000 (11%)\n",
            "\n",
            "Train Epoch:1 [0/60000 (0%]\tLoss:2.289037\n",
            "Train Epoch:1 [12800/60000 (21%]\tLoss:0.332757\n",
            "Train Epoch:1 [25600/60000 (43%]\tLoss:0.359405\n",
            "Train Epoch:1 [38400/60000 (64%]\tLoss:0.216230\n",
            "Train Epoch:1 [51200/60000 (85%]\tLoss:0.153558\n",
            "\n",
            "Test set: Average Loss: 0.1642, Accuracy: 9530/10000 (95%)\n",
            "\n",
            "Train Epoch:2 [0/60000 (0%]\tLoss:0.127502\n",
            "Train Epoch:2 [12800/60000 (21%]\tLoss:0.181071\n",
            "Train Epoch:2 [25600/60000 (43%]\tLoss:0.149213\n",
            "Train Epoch:2 [38400/60000 (64%]\tLoss:0.175571\n",
            "Train Epoch:2 [51200/60000 (85%]\tLoss:0.083897\n",
            "\n",
            "Test set: Average Loss: 0.1150, Accuracy: 9655/10000 (97%)\n",
            "\n",
            "Train Epoch:3 [0/60000 (0%]\tLoss:0.105350\n",
            "Train Epoch:3 [12800/60000 (21%]\tLoss:0.066667\n",
            "Train Epoch:3 [25600/60000 (43%]\tLoss:0.073564\n",
            "Train Epoch:3 [38400/60000 (64%]\tLoss:0.027924\n",
            "Train Epoch:3 [51200/60000 (85%]\tLoss:0.131578\n",
            "\n",
            "Test set: Average Loss: 0.0997, Accuracy: 9692/10000 (97%)\n",
            "\n"
          ],
          "name": "stdout"
        }
      ]
    },
    {
      "cell_type": "code",
      "metadata": {
        "colab": {
          "base_uri": "https://localhost:8080/",
          "height": 282
        },
        "id": "Ax6Z-QP4jRaq",
        "outputId": "56132453-b7f2-403f-cf77-48ae3c6ff9bc"
      },
      "source": [
        "import matplotlib.pyplot as plt\n",
        "\n",
        "test_image = test_loader.dataset.data[3848]\n",
        "plt.imshow(test_image, cmap='gray')\n"
      ],
      "execution_count": 23,
      "outputs": [
        {
          "output_type": "execute_result",
          "data": {
            "text/plain": [
              "<matplotlib.image.AxesImage at 0x7fbdfc96ebd0>"
            ]
          },
          "metadata": {
            "tags": []
          },
          "execution_count": 23
        },
        {
          "output_type": "display_data",
          "data": {
            "image/png": "[encoded data removed]",
            "text/plain": [
              "<Figure size 432x288 with 1 Axes>"
            ]
          },
          "metadata": {
            "tags": [],
            "needs_background": "light"
          }
        }
      ]
    },
    {
      "cell_type": "code",
      "metadata": {
        "id": "_oNF6tGlkMWP"
      },
      "source": [
        "out = model(test_image.float())"
      ],
      "execution_count": 25,
      "outputs": []
    },
    {
      "cell_type": "code",
      "metadata": {
        "colab": {
          "base_uri": "https://localhost:8080/"
        },
        "id": "PUvd2s_pkXgu",
        "outputId": "3e820a8f-e4c0-4772-fc61-46dc30981a72"
      },
      "source": [
        "out"
      ],
      "execution_count": 26,
      "outputs": [
        {
          "output_type": "execute_result",
          "data": {
            "text/plain": [
              "tensor([[ -827.8201,  -593.2245,  -327.7162,  -149.2835,  -701.1925, -1121.0844,\n",
              "         -1030.3563,     0.0000,  -642.5305,  -765.3195]],\n",
              "       grad_fn=<LogSoftmaxBackward>)"
            ]
          },
          "metadata": {
            "tags": []
          },
          "execution_count": 26
        }
      ]
    },
    {
      "cell_type": "code",
      "metadata": {
        "colab": {
          "base_uri": "https://localhost:8080/"
        },
        "id": "FdJ4-bGqkZ5u",
        "outputId": "2ecab825-11aa-4113-ac51-0e0517e0fb87"
      },
      "source": [
        "out.argmax(dim=1)"
      ],
      "execution_count": 27,
      "outputs": [
        {
          "output_type": "execute_result",
          "data": {
            "text/plain": [
              "tensor([7])"
            ]
          },
          "metadata": {
            "tags": []
          },
          "execution_count": 27
        }
      ]
    },
    {
      "cell_type": "code",
      "metadata": {
        "id": "NOtbcfhakUAH"
      },
      "source": [
        ""
      ],
      "execution_count": null,
      "outputs": []
    },
    {
      "cell_type": "code",
      "metadata": {
        "id": "KiZzTUkMkIj4"
      },
      "source": [
        ""
      ],
      "execution_count": null,
      "outputs": []
    }
  ]
}